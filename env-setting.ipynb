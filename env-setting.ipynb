{
 "cells": [
  {
   "cell_type": "code",
   "execution_count": 4,
   "id": "df02398a",
   "metadata": {},
   "outputs": [
    {
     "name": "stdout",
     "output_type": "stream",
     "text": [
      "Requirement already satisfied: pyarrow in /opt/conda/lib/python3.9/site-packages (11.0.0)\n",
      "Requirement already satisfied: numpy>=1.16.6 in /opt/conda/lib/python3.9/site-packages (from pyarrow) (1.19.5)\n",
      "Note: you may need to restart the kernel to use updated packages.\n"
     ]
    }
   ],
   "source": [
    "%pip install -U \"pyarrow\""
   ]
  },
  {
   "cell_type": "code",
   "execution_count": 2,
   "id": "cb00ffda",
   "metadata": {},
   "outputs": [
    {
     "name": "stdout",
     "output_type": "stream",
     "text": [
      "Requirement already satisfied: ray in /opt/conda/lib/python3.9/site-packages (2.3.0)\n",
      "Requirement already satisfied: grpcio>=1.32.0 in /opt/conda/lib/python3.9/site-packages (from ray) (1.41.0)\n",
      "Requirement already satisfied: attrs in /opt/conda/lib/python3.9/site-packages (from ray) (21.2.0)\n",
      "Requirement already satisfied: virtualenv>=20.0.24 in /opt/conda/lib/python3.9/site-packages (from ray) (20.21.0)\n",
      "Requirement already satisfied: click>=7.0 in /opt/conda/lib/python3.9/site-packages (from ray) (7.1.2)\n",
      "Requirement already satisfied: numpy>=1.19.3 in /opt/conda/lib/python3.9/site-packages (from ray) (1.19.5)\n",
      "Requirement already satisfied: msgpack<2.0.0,>=1.0.0 in /opt/conda/lib/python3.9/site-packages (from ray) (1.0.2)\n",
      "Requirement already satisfied: pyyaml in /opt/conda/lib/python3.9/site-packages (from ray) (5.4.1)\n",
      "Requirement already satisfied: aiosignal in /opt/conda/lib/python3.9/site-packages (from ray) (1.3.1)\n",
      "Requirement already satisfied: filelock in /opt/conda/lib/python3.9/site-packages (from ray) (3.10.0)\n",
      "Requirement already satisfied: protobuf!=3.19.5,>=3.15.3 in /opt/conda/lib/python3.9/site-packages (from ray) (3.15.8)\n",
      "Requirement already satisfied: jsonschema in /opt/conda/lib/python3.9/site-packages (from ray) (3.2.0)\n",
      "Requirement already satisfied: requests in /opt/conda/lib/python3.9/site-packages (from ray) (2.25.1)\n",
      "Requirement already satisfied: frozenlist in /opt/conda/lib/python3.9/site-packages (from ray) (1.3.3)\n",
      "Requirement already satisfied: six>=1.5.2 in /opt/conda/lib/python3.9/site-packages (from grpcio>=1.32.0->ray) (1.15.0)\n",
      "Requirement already satisfied: platformdirs<4,>=2.4 in /opt/conda/lib/python3.9/site-packages (from virtualenv>=20.0.24->ray) (3.1.1)\n",
      "Requirement already satisfied: distlib<1,>=0.3.6 in /opt/conda/lib/python3.9/site-packages (from virtualenv>=20.0.24->ray) (0.3.6)\n",
      "Requirement already satisfied: setuptools in /opt/conda/lib/python3.9/site-packages (from jsonschema->ray) (49.6.0.post20210108)\n",
      "Requirement already satisfied: pyrsistent>=0.14.0 in /opt/conda/lib/python3.9/site-packages (from jsonschema->ray) (0.17.3)\n",
      "Requirement already satisfied: chardet<5,>=3.0.2 in /opt/conda/lib/python3.9/site-packages (from requests->ray) (4.0.0)\n",
      "Requirement already satisfied: urllib3<1.27,>=1.21.1 in /opt/conda/lib/python3.9/site-packages (from requests->ray) (1.26.4)\n",
      "Requirement already satisfied: idna<3,>=2.5 in /opt/conda/lib/python3.9/site-packages (from requests->ray) (2.10)\n",
      "Requirement already satisfied: certifi>=2017.4.17 in /opt/conda/lib/python3.9/site-packages (from requests->ray) (2020.12.5)\n",
      "Note: you may need to restart the kernel to use updated packages.\n"
     ]
    }
   ],
   "source": [
    "%pip install ray"
   ]
  },
  {
   "cell_type": "code",
   "execution_count": 5,
   "id": "492e398c",
   "metadata": {},
   "outputs": [
    {
     "name": "stdout",
     "output_type": "stream",
     "text": [
      "Collecting xgboost_ray\n",
      "  Downloading xgboost_ray-0.1.15-py3-none-any.whl (138 kB)\n",
      "\u001b[K     |████████████████████████████████| 138 kB 758 kB/s eta 0:00:01\n",
      "\u001b[?25hRequirement already satisfied: ray>=1.10 in /opt/conda/lib/python3.9/site-packages (from xgboost_ray) (2.3.0)\n",
      "Requirement already satisfied: packaging in /opt/conda/lib/python3.9/site-packages (from xgboost_ray) (20.9)\n",
      "Requirement already satisfied: numpy>=1.16 in /opt/conda/lib/python3.9/site-packages (from xgboost_ray) (1.19.5)\n",
      "Requirement already satisfied: wrapt>=1.12.1 in /opt/conda/lib/python3.9/site-packages (from xgboost_ray) (1.12.1)\n",
      "Requirement already satisfied: pandas in /opt/conda/lib/python3.9/site-packages (from xgboost_ray) (1.2.4)\n",
      "Collecting xgboost>=0.90\n",
      "  Downloading xgboost-1.7.4-py3-none-manylinux2014_x86_64.whl (193.6 MB)\n",
      "\u001b[K     |████████████████████████████████| 193.6 MB 25 kB/s s eta 0:00:01    |█████████▉                      | 59.7 MB 6.4 MB/s eta 0:00:21     |███████████████████▋            | 118.8 MB 6.3 MB/s eta 0:00:12     |█████████████████████████████▌  | 178.6 MB 9.9 MB/s eta 0:00:02\n",
      "\u001b[?25hRequirement already satisfied: filelock in /opt/conda/lib/python3.9/site-packages (from ray>=1.10->xgboost_ray) (3.10.0)\n",
      "Requirement already satisfied: requests in /opt/conda/lib/python3.9/site-packages (from ray>=1.10->xgboost_ray) (2.25.1)\n",
      "Requirement already satisfied: protobuf!=3.19.5,>=3.15.3 in /opt/conda/lib/python3.9/site-packages (from ray>=1.10->xgboost_ray) (3.15.8)\n",
      "Requirement already satisfied: msgpack<2.0.0,>=1.0.0 in /opt/conda/lib/python3.9/site-packages (from ray>=1.10->xgboost_ray) (1.0.2)\n",
      "Requirement already satisfied: aiosignal in /opt/conda/lib/python3.9/site-packages (from ray>=1.10->xgboost_ray) (1.3.1)\n",
      "Requirement already satisfied: attrs in /opt/conda/lib/python3.9/site-packages (from ray>=1.10->xgboost_ray) (21.2.0)\n",
      "Requirement already satisfied: virtualenv>=20.0.24 in /opt/conda/lib/python3.9/site-packages (from ray>=1.10->xgboost_ray) (20.21.0)\n",
      "Requirement already satisfied: grpcio>=1.32.0 in /opt/conda/lib/python3.9/site-packages (from ray>=1.10->xgboost_ray) (1.41.0)\n",
      "Requirement already satisfied: pyyaml in /opt/conda/lib/python3.9/site-packages (from ray>=1.10->xgboost_ray) (5.4.1)\n",
      "Requirement already satisfied: jsonschema in /opt/conda/lib/python3.9/site-packages (from ray>=1.10->xgboost_ray) (3.2.0)\n",
      "Requirement already satisfied: frozenlist in /opt/conda/lib/python3.9/site-packages (from ray>=1.10->xgboost_ray) (1.3.3)\n",
      "Requirement already satisfied: click>=7.0 in /opt/conda/lib/python3.9/site-packages (from ray>=1.10->xgboost_ray) (7.1.2)\n",
      "Requirement already satisfied: six>=1.5.2 in /opt/conda/lib/python3.9/site-packages (from grpcio>=1.32.0->ray>=1.10->xgboost_ray) (1.15.0)\n",
      "Requirement already satisfied: distlib<1,>=0.3.6 in /opt/conda/lib/python3.9/site-packages (from virtualenv>=20.0.24->ray>=1.10->xgboost_ray) (0.3.6)\n",
      "Requirement already satisfied: platformdirs<4,>=2.4 in /opt/conda/lib/python3.9/site-packages (from virtualenv>=20.0.24->ray>=1.10->xgboost_ray) (3.1.1)\n",
      "Requirement already satisfied: scipy in /opt/conda/lib/python3.9/site-packages (from xgboost>=0.90->xgboost_ray) (1.6.3)\n",
      "Requirement already satisfied: setuptools in /opt/conda/lib/python3.9/site-packages (from jsonschema->ray>=1.10->xgboost_ray) (49.6.0.post20210108)\n",
      "Requirement already satisfied: pyrsistent>=0.14.0 in /opt/conda/lib/python3.9/site-packages (from jsonschema->ray>=1.10->xgboost_ray) (0.17.3)\n",
      "Requirement already satisfied: pyparsing>=2.0.2 in /opt/conda/lib/python3.9/site-packages (from packaging->xgboost_ray) (2.4.7)\n",
      "Requirement already satisfied: python-dateutil>=2.7.3 in /opt/conda/lib/python3.9/site-packages (from pandas->xgboost_ray) (2.8.1)\n",
      "Requirement already satisfied: pytz>=2017.3 in /opt/conda/lib/python3.9/site-packages (from pandas->xgboost_ray) (2021.1)\n",
      "Requirement already satisfied: chardet<5,>=3.0.2 in /opt/conda/lib/python3.9/site-packages (from requests->ray>=1.10->xgboost_ray) (4.0.0)\n",
      "Requirement already satisfied: certifi>=2017.4.17 in /opt/conda/lib/python3.9/site-packages (from requests->ray>=1.10->xgboost_ray) (2020.12.5)\n",
      "Requirement already satisfied: idna<3,>=2.5 in /opt/conda/lib/python3.9/site-packages (from requests->ray>=1.10->xgboost_ray) (2.10)\n",
      "Requirement already satisfied: urllib3<1.27,>=1.21.1 in /opt/conda/lib/python3.9/site-packages (from requests->ray>=1.10->xgboost_ray) (1.26.4)\n",
      "Installing collected packages: xgboost, xgboost-ray\n",
      "Successfully installed xgboost-1.7.4 xgboost-ray-0.1.15\n",
      "Note: you may need to restart the kernel to use updated packages.\n"
     ]
    }
   ],
   "source": [
    "%pip install xgboost_ray"
   ]
  },
  {
   "cell_type": "code",
   "execution_count": null,
   "id": "8c0a22a6",
   "metadata": {},
   "outputs": [],
   "source": []
  }
 ],
 "metadata": {
  "kernelspec": {
   "display_name": "Python 3",
   "language": "python",
   "name": "python3"
  },
  "language_info": {
   "codemirror_mode": {
    "name": "ipython",
    "version": 3
   },
   "file_extension": ".py",
   "mimetype": "text/x-python",
   "name": "python",
   "nbconvert_exporter": "python",
   "pygments_lexer": "ipython3",
   "version": "3.9.4"
  }
 },
 "nbformat": 4,
 "nbformat_minor": 5
}
